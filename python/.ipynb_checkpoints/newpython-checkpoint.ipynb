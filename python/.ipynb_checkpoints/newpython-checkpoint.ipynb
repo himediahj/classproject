{
 "cells": [
  {
   "cell_type": "code",
   "execution_count": 1,
   "id": "36d97bb0",
   "metadata": {},
   "outputs": [],
   "source": [
    "# 주석은 #을 쓴다\n",
    "# 숫자, 문자열, 리스트, 튜플\n",
    "\n",
    "# type() => 데이터의 타입을 확인 함수"
   ]
  },
  {
   "cell_type": "code",
   "execution_count": 2,
   "id": "49617a1d",
   "metadata": {},
   "outputs": [
    {
     "name": "stdout",
     "output_type": "stream",
     "text": [
      "<class 'str'>\n"
     ]
    }
   ],
   "source": [
    "print(type('hello'))"
   ]
  },
  {
   "cell_type": "code",
   "execution_count": 3,
   "id": "319486c1",
   "metadata": {},
   "outputs": [
    {
     "name": "stdout",
     "output_type": "stream",
     "text": [
      "<class 'int'>\n"
     ]
    }
   ],
   "source": [
    "print(type(100))"
   ]
  },
  {
   "cell_type": "code",
   "execution_count": 4,
   "id": "7948a1b2",
   "metadata": {},
   "outputs": [
    {
     "name": "stdout",
     "output_type": "stream",
     "text": [
      "<class 'float'>\n"
     ]
    }
   ],
   "source": [
    "print(type(3.14))"
   ]
  },
  {
   "cell_type": "code",
   "execution_count": 5,
   "id": "111064c1",
   "metadata": {},
   "outputs": [],
   "source": [
    "# str : 문자열 생성은 \"\" ''로 만든다\n",
    "# \\문자를 통해서 \" \\\" \\' \\\\ \\t \\n\""
   ]
  },
  {
   "cell_type": "code",
   "execution_count": 6,
   "id": "bc09fee8",
   "metadata": {},
   "outputs": [
    {
     "name": "stdout",
     "output_type": "stream",
     "text": [
      "\"안녕\" \t하'세'요 \n",
      "\n",
      "안녕하세요\n"
     ]
    }
   ],
   "source": [
    "print(\"\\\"안녕\\\" \\t하\\'세\\'요 \\n\")\n",
    "print(\"안녕하세요\")"
   ]
  },
  {
   "cell_type": "code",
   "execution_count": 7,
   "id": "98efee4a",
   "metadata": {},
   "outputs": [
    {
     "name": "stdout",
     "output_type": "stream",
     "text": [
      "안녕하세요\n",
      "저는 손흥민입니다.\n",
      "영국에서 축구를 합니다.\n",
      "경기에서 골을 넣고 싶습니다.\n"
     ]
    }
   ],
   "source": [
    "print(\"\"\"안녕하세요\n",
    "저는 손흥민입니다.\n",
    "영국에서 축구를 합니다.\n",
    "경기에서 골을 넣고 싶습니다.\"\"\")"
   ]
  },
  {
   "cell_type": "code",
   "execution_count": 8,
   "id": "866b1837",
   "metadata": {},
   "outputs": [
    {
     "name": "stdout",
     "output_type": "stream",
     "text": [
      "\n",
      "안녕하세요\n",
      "저는 손흥민입니다.\n",
      "영국에서 축구를 합니다.\n",
      "경기에서 골을 넣고 싶습니다.\n",
      "\n"
     ]
    }
   ],
   "source": [
    "print(\"\"\"\n",
    "안녕하세요\n",
    "저는 손흥민입니다.\n",
    "영국에서 축구를 합니다.\n",
    "경기에서 골을 넣고 싶습니다.\n",
    "\"\"\")"
   ]
  },
  {
   "cell_type": "code",
   "execution_count": 9,
   "id": "2f27fc3f",
   "metadata": {},
   "outputs": [
    {
     "name": "stdout",
     "output_type": "stream",
     "text": [
      "안녕하세요\n",
      "저는 손흥민입니다.영국에서 축구를 합니다.\n",
      "경기에서 골을 넣고 싶습니다.\n"
     ]
    }
   ],
   "source": [
    "print(\"\"\"\\\n",
    "안녕하세요\n",
    "저는 손흥민입니다.\\\n",
    "영국에서 축구를 합니다.\n",
    "경기에서 골을 넣고 싶습니다.\\\n",
    "\"\"\")"
   ]
  },
  {
   "cell_type": "code",
   "execution_count": 10,
   "id": "18cf2237",
   "metadata": {},
   "outputs": [],
   "source": [
    "#문자열 + 문자열 => 문자열\n",
    "#문자열 + 숫자 => 오류"
   ]
  },
  {
   "cell_type": "code",
   "execution_count": 11,
   "id": "b4526915",
   "metadata": {},
   "outputs": [
    {
     "name": "stdout",
     "output_type": "stream",
     "text": [
      "안녕하세요\n"
     ]
    }
   ],
   "source": [
    "print('안녕'+'하세요')"
   ]
  },
  {
   "cell_type": "code",
   "execution_count": 12,
   "id": "5eafd67e",
   "metadata": {},
   "outputs": [
    {
     "ename": "TypeError",
     "evalue": "can only concatenate str (not \"int\") to str",
     "output_type": "error",
     "traceback": [
      "\u001b[1;31m---------------------------------------------------------------------------\u001b[0m",
      "\u001b[1;31mTypeError\u001b[0m                                 Traceback (most recent call last)",
      "\u001b[1;32m~\\AppData\\Local\\Temp\\ipykernel_3068\\1881774071.py\u001b[0m in \u001b[0;36m<module>\u001b[1;34m\u001b[0m\n\u001b[1;32m----> 1\u001b[1;33m \u001b[0mprint\u001b[0m\u001b[1;33m(\u001b[0m\u001b[1;34m'안녕'\u001b[0m\u001b[1;33m+\u001b[0m\u001b[1;36m10\u001b[0m\u001b[1;33m)\u001b[0m\u001b[1;33m\u001b[0m\u001b[1;33m\u001b[0m\u001b[0m\n\u001b[0m",
      "\u001b[1;31mTypeError\u001b[0m: can only concatenate str (not \"int\") to str"
     ]
    }
   ],
   "source": [
    "print('안녕'+10)"
   ]
  },
  {
   "cell_type": "code",
   "execution_count": 13,
   "id": "61b5464e",
   "metadata": {},
   "outputs": [
    {
     "name": "stdout",
     "output_type": "stream",
     "text": [
      "안녕10\n"
     ]
    }
   ],
   "source": [
    "print('안녕'+\"10\")"
   ]
  },
  {
   "cell_type": "code",
   "execution_count": 14,
   "id": "112277e9",
   "metadata": {},
   "outputs": [
    {
     "name": "stdout",
     "output_type": "stream",
     "text": [
      "안녕안녕안녕\n"
     ]
    }
   ],
   "source": [
    "print('안녕'*3)"
   ]
  },
  {
   "cell_type": "code",
   "execution_count": 15,
   "id": "6ca6f481",
   "metadata": {},
   "outputs": [],
   "source": [
    "# str => 문자들의 집합\n",
    "# 인덱싱 사용 => 배열의 인덱스처럼 사용\n",
    "# 인덱스 : 0 ~ N-1"
   ]
  },
  {
   "cell_type": "code",
   "execution_count": 16,
   "id": "eec303d6",
   "metadata": {},
   "outputs": [
    {
     "name": "stdout",
     "output_type": "stream",
     "text": [
      "안\n",
      "녕\n",
      "하\n",
      "세\n",
      "요\n"
     ]
    }
   ],
   "source": [
    "print('안녕하세요'[0])\n",
    "print('안녕하세요'[1])\n",
    "print('안녕하세요'[2])\n",
    "print('안녕하세요'[3])\n",
    "print('안녕하세요'[4])"
   ]
  },
  {
   "cell_type": "code",
   "execution_count": 17,
   "id": "601dc380",
   "metadata": {},
   "outputs": [
    {
     "name": "stdout",
     "output_type": "stream",
     "text": [
      "요\n",
      "세\n",
      "하\n",
      "녕\n",
      "안\n"
     ]
    }
   ],
   "source": [
    "print('안녕하세요'[-1])\n",
    "print('안녕하세요'[-2])\n",
    "print('안녕하세요'[-3])\n",
    "print('안녕하세요'[-4])\n",
    "print('안녕하세요'[-5])"
   ]
  },
  {
   "cell_type": "code",
   "execution_count": null,
   "id": "cd1c7568",
   "metadata": {},
   "outputs": [],
   "source": [
    "# [] => 스라이싱 : 범위 선택\n",
    "# [ 시작 인덱스 : 종료 위치 ] => 시작 인덱스 ~ 종료 위치 - 1\n",
    "# => [1:4] -> 1, 2, 3\n",
    "# [ 시작 인덱스 : 종료 위치 ] => 시작 인덱스 ~ 종료 위치 - 1\n",
    "# 시작 인덱스 생략 : [ : 4] => 0부터\n",
    "# 종료 위치 생략 : [ 1 : ] => 끝까지"
   ]
  },
  {
   "cell_type": "code",
   "execution_count": 19,
   "id": "acca7981",
   "metadata": {},
   "outputs": [
    {
     "name": "stdout",
     "output_type": "stream",
     "text": [
      "녕하세\n"
     ]
    }
   ],
   "source": [
    "print('안녕하세요'[1:4])"
   ]
  },
  {
   "cell_type": "code",
   "execution_count": 20,
   "id": "725f3b12",
   "metadata": {},
   "outputs": [
    {
     "name": "stdout",
     "output_type": "stream",
     "text": [
      "안녕하세\n"
     ]
    }
   ],
   "source": [
    "print('안녕하세요'[:4])"
   ]
  },
  {
   "cell_type": "code",
   "execution_count": null,
   "id": "0c89f4a5",
   "metadata": {},
   "outputs": [],
   "source": [
    "# 숫자 타입\n",
    "# 정수 int, 실수 float\n",
    "# 사칙연산 => +, -, *, /, %\n",
    "# 정수 나누기 : //\n",
    "# 제곱 연산 : **"
   ]
  },
  {
   "cell_type": "code",
   "execution_count": 24,
   "id": "bb04d120",
   "metadata": {},
   "outputs": [
    {
     "name": "stdout",
     "output_type": "stream",
     "text": [
      "3\n",
      "3.3333333333333335\n",
      "3\n",
      "9\n"
     ]
    }
   ],
   "source": [
    "print(1+2)\n",
    "print(10/3)\n",
    "# 정수 결과만 나오는 나누기 연산\n",
    "print(10//3)\n",
    "# 제곱 \n",
    "print(3**2)"
   ]
  },
  {
   "cell_type": "code",
   "execution_count": 27,
   "id": "87975e28",
   "metadata": {},
   "outputs": [],
   "source": [
    "# 변수 사용\n",
    "# 변수 = 데이터 \n",
    "# 복합대입연산자 사용 가능"
   ]
  },
  {
   "cell_type": "code",
   "execution_count": 25,
   "id": "bdd3e81a",
   "metadata": {},
   "outputs": [],
   "source": [
    "pi = 3.14\n",
    "r = 2"
   ]
  },
  {
   "cell_type": "code",
   "execution_count": 26,
   "id": "63aa48f1",
   "metadata": {
    "scrolled": true
   },
   "outputs": [
    {
     "name": "stdout",
     "output_type": "stream",
     "text": [
      "원주율 :  3.14 반지름 :  2\n"
     ]
    }
   ],
   "source": [
    "print('원주율 : ', pi, '반지름 : ', r)"
   ]
  },
  {
   "cell_type": "code",
   "execution_count": null,
   "id": "f7e05789",
   "metadata": {},
   "outputs": [],
   "source": [
    "# 캐스팅 함수\n",
    "# 문자열 -> 정수 : int()\n",
    "# 문자열 -> 실수 : float()\n",
    "# 숫자 -> 문자열 : str()"
   ]
  },
  {
   "cell_type": "code",
   "execution_count": null,
   "id": "7587ebef",
   "metadata": {},
   "outputs": [],
   "source": [
    "# 문자열을 다루는 함수\n",
    "# format()\n",
    "# upper() lower()\n",
    "# strip lstrip() rstrip()\n",
    "# find()\n",
    "# split()\n",
    "# is000\n",
    "# in 연산자"
   ]
  },
  {
   "cell_type": "code",
   "execution_count": 30,
   "id": "280e4c99",
   "metadata": {},
   "outputs": [
    {
     "name": "stdout",
     "output_type": "stream",
     "text": [
      "100만원\n",
      "1 string True\n"
     ]
    }
   ],
   "source": [
    "# format : 문자열 포맷팅\n",
    "format_a = '{}만원'.format(100)\n",
    "print(format_a)\n",
    "format_b = '{} {} {}'.format(1, 'string', True)\n",
    "print(format_b)"
   ]
  },
  {
   "cell_type": "code",
   "execution_count": 34,
   "id": "63d9bc3d",
   "metadata": {},
   "outputs": [
    {
     "name": "stdout",
     "output_type": "stream",
     "text": [
      "###   String   ###\n",
      "###String###\n",
      "###String   ###\n",
      "###   String###\n"
     ]
    }
   ],
   "source": [
    "# strip() lstrip() rstrip() : 공백 제거해주는 함수\n",
    "str1 = '   String   '\n",
    "print('###' + str1 + '###')\n",
    "print('###' + str1.strip() + '###')\n",
    "print('###' + str1.lstrip() + '###')\n",
    "print('###' + str1.rstrip() + '###')"
   ]
  },
  {
   "cell_type": "code",
   "execution_count": 36,
   "id": "56470644",
   "metadata": {},
   "outputs": [
    {
     "name": "stdout",
     "output_type": "stream",
     "text": [
      "2\n"
     ]
    }
   ],
   "source": [
    "# find() : 문자열을 포함하는 위치 인덱스 반환\n",
    "result1 = '안녕하세요'.find('하')\n",
    "print(result1)"
   ]
  },
  {
   "cell_type": "code",
   "execution_count": 37,
   "id": "891ceebb",
   "metadata": {},
   "outputs": [
    {
     "name": "stdout",
     "output_type": "stream",
     "text": [
      "<class 'list'> ['1', '2', '3', '4', '5']\n"
     ]
    }
   ],
   "source": [
    "# split() : 문자열을 첨자로 나누고 나눠진 결과를 리스트로 반환\n",
    "list_1 = '1 2 3 4 5'.split(' ')\n",
    "print(type(list_1), list_1)"
   ]
  },
  {
   "cell_type": "code",
   "execution_count": 39,
   "id": "d57bbec0",
   "metadata": {},
   "outputs": [
    {
     "name": "stdout",
     "output_type": "stream",
     "text": [
      "True\n",
      "True\n"
     ]
    }
   ],
   "source": [
    "# is000 : 문자열의 구성 파악\n",
    "print('test123'.isalnum())\n",
    "print('1000'.isdigit())"
   ]
  },
  {
   "cell_type": "code",
   "execution_count": 41,
   "id": "16788c8a",
   "metadata": {},
   "outputs": [
    {
     "name": "stdout",
     "output_type": "stream",
     "text": [
      "True\n",
      "False\n"
     ]
    }
   ],
   "source": [
    "# in 연산자\n",
    "print('안녕' in '안녕하세요')\n",
    "print('바이' in '안녕하세요')"
   ]
  },
  {
   "cell_type": "code",
   "execution_count": 43,
   "id": "88983a96",
   "metadata": {},
   "outputs": [
    {
     "name": "stdout",
     "output_type": "stream",
     "text": [
      "정수 입력 >>> -10\n",
      "음수\n"
     ]
    }
   ],
   "source": [
    "# 흐름제어\n",
    "# if\n",
    "\n",
    "# input함수는 문자열을 반환\n",
    "num1 = input('정수 입력 >>> ')\n",
    "num2 = int(num1)\n",
    "\n",
    "if num2 > 0 :\n",
    "    print('양수')\n",
    "if num2 < 0 :\n",
    "    print('음수')\n",
    "if num2 == 0 :\n",
    "    print('0')"
   ]
  },
  {
   "cell_type": "code",
   "execution_count": 44,
   "id": "fcb8ce8b",
   "metadata": {},
   "outputs": [
    {
     "name": "stdout",
     "output_type": "stream",
     "text": [
      "정수 입력 >>> 5\n",
      "양수\n"
     ]
    }
   ],
   "source": [
    "# 흐름제어\n",
    "# if\n",
    "\n",
    "# input함수는 문자열을 반환\n",
    "num1 = input('정수 입력 >>> ')\n",
    "num2 = int(num1)\n",
    "\n",
    "if num2 > 0 :\n",
    "    print('양수')\n",
    "elif num2 < 0 :\n",
    "    print('음수')\n",
    "else :\n",
    "    print('0')"
   ]
  },
  {
   "cell_type": "code",
   "execution_count": 45,
   "id": "071e931a",
   "metadata": {},
   "outputs": [
    {
     "name": "stdout",
     "output_type": "stream",
     "text": [
      "0은 False\n"
     ]
    }
   ],
   "source": [
    "if 0 :\n",
    "    print('0은 True')\n",
    "else :\n",
    "    print('0은 False')"
   ]
  },
  {
   "cell_type": "code",
   "execution_count": 46,
   "id": "618be901",
   "metadata": {},
   "outputs": [
    {
     "name": "stdout",
     "output_type": "stream",
     "text": [
      "공백 문자열은 False\n"
     ]
    }
   ],
   "source": [
    "# 0은 False\n",
    "\n",
    "if \"\" :\n",
    "    print('공백 문자열은 True')\n",
    "else :\n",
    "    print('공백 문자열은 False')"
   ]
  },
  {
   "cell_type": "code",
   "execution_count": 47,
   "id": "27939352",
   "metadata": {},
   "outputs": [
    {
     "name": "stdout",
     "output_type": "stream",
     "text": [
      "비어있는 리스트는 False\n"
     ]
    }
   ],
   "source": [
    "# 0은 False\n",
    "# 공백 문자열은 False\n",
    "# 비어있는 리스트는 False\n",
    "# None : 함수에서 반환 값이 없을 때 반환되는 값 => False\n",
    "\n",
    "if [] :\n",
    "    print('비어있는 리스트는 True')\n",
    "else :\n",
    "    print('비어있는 리스트는 False')"
   ]
  },
  {
   "cell_type": "code",
   "execution_count": 49,
   "id": "8a313131",
   "metadata": {},
   "outputs": [],
   "source": [
    "# pass 키워드\n",
    "\n",
    "num3 = 10\n",
    "\n",
    "if num3 > 0 :\n",
    "    pass\n",
    "else : \n",
    "    pass"
   ]
  },
  {
   "cell_type": "code",
   "execution_count": 55,
   "id": "a9a3b312",
   "metadata": {},
   "outputs": [
    {
     "name": "stdout",
     "output_type": "stream",
     "text": [
      "55\n",
      "문자열 열 문자\n",
      "True\n",
      "참\n",
      "[10, 900, 55, '문자열', False, False]\n"
     ]
    }
   ],
   "source": [
    "# list 자료형 : 배열과 비슷한 형태, 집합과 같이 데이터들을 묶어서 사용\n",
    "# 데이터들의 타입은 일치하지 않아도 된다\n",
    "# [] 사용, 인덱스값을 통해서 참조\n",
    "\n",
    "list_temp = [10, 900, 55, '문자열', True, False]\n",
    "print(list_temp[2])\n",
    "print(list_temp[3], list_temp[3][2], list_temp[3][:2])\n",
    "print(list_temp[-2])\n",
    "\n",
    "if list_temp[-2] :\n",
    "    print('참')\n",
    "    list_temp[-2] = False\n",
    "\n",
    "print(list_temp)\n",
    "\n"
   ]
  },
  {
   "cell_type": "code",
   "execution_count": null,
   "id": "5536753f",
   "metadata": {},
   "outputs": [],
   "source": [
    "# list 연산 : +, *"
   ]
  },
  {
   "cell_type": "code",
   "execution_count": 71,
   "id": "bc58c170",
   "metadata": {},
   "outputs": [
    {
     "name": "stdout",
     "output_type": "stream",
     "text": [
      "[1, 2, 3, 4, 5, 6]\n",
      "[1, 2, 3]\n",
      "[4, 5, 6]\n",
      "list_a 리스트 요소의 개수  3\n",
      "요소 추가 [1, 2, 3, 4]\n",
      "0번지에 10을 추가 [10, 1, 2, 3, 4]\n",
      "원본 리스트에 데이터 추가 :  [4, 5, 6, 133, 500, 874]\n",
      "[4, 5, 6, 133, 874]\n",
      "[4, 5, 6, 133]\n",
      "[4, 5, 6]\n",
      "True\n"
     ]
    }
   ],
   "source": [
    "# + 연산 : 리스트의 연결 => 새로운 리스트 생성\n",
    "list_a = [1,2,3]\n",
    "list_b = [4,5,6]\n",
    "\n",
    "print(list_a + list_b)\n",
    "print(list_a)\n",
    "print(list_b)\n",
    "print('list_a 리스트 요소의 개수 ', len(list_a))\n",
    "\n",
    "list_a.append(4)\n",
    "print('요소 추가', list_a)\n",
    "\n",
    "list_a.insert(0, 10)\n",
    "print('0번지에 10을 추가', list_a)\n",
    "\n",
    "list_b.extend([133, 500, 874])\n",
    "print('원본 리스트에 데이터 추가 : ', list_b)\n",
    "\n",
    "del list_b[4]\n",
    "print(list_b)\n",
    "\n",
    "list_b.pop(4)\n",
    "print(list_b)\n",
    "\n",
    "list_b.remove(133)\n",
    "print(list_b)\n",
    "\n",
    "print( 5 in list_b )\n"
   ]
  },
  {
   "cell_type": "code",
   "execution_count": 70,
   "id": "8d354f05",
   "metadata": {},
   "outputs": [
    {
     "name": "stdout",
     "output_type": "stream",
     "text": [
      "[1, 4, 5, 6, 7]\n",
      "[6, 7]\n",
      "[]\n"
     ]
    }
   ],
   "source": [
    "# 함수 : len, extend(), append(), insert(), del(), remove(), clear()\n",
    "\n",
    "list_c = [1,2,3,4,5,6,7]\n",
    "del list_c[1:3]\n",
    "print(list_c)\n",
    "\n",
    "del list_c[:3]\n",
    "print(list_c)\n",
    "\n",
    "list_c.clear()\n",
    "print(list_c)\n"
   ]
  },
  {
   "cell_type": "code",
   "execution_count": 73,
   "id": "e571c030",
   "metadata": {},
   "outputs": [
    {
     "name": "stdout",
     "output_type": "stream",
     "text": [
      "0\n",
      "1\n",
      "2\n",
      "3\n",
      "4\n",
      "4\n",
      "5\n",
      "6\n"
     ]
    }
   ],
   "source": [
    "# for 반복문\n",
    "\n",
    "for i in range(5):\n",
    "    print(i)\n",
    "    \n",
    "for item in list_b:\n",
    "    print(item)"
   ]
  },
  {
   "cell_type": "code",
   "execution_count": null,
   "id": "6539677a",
   "metadata": {},
   "outputs": [],
   "source": []
  }
 ],
 "metadata": {
  "kernelspec": {
   "display_name": "Python 3 (ipykernel)",
   "language": "python",
   "name": "python3"
  },
  "language_info": {
   "codemirror_mode": {
    "name": "ipython",
    "version": 3
   },
   "file_extension": ".py",
   "mimetype": "text/x-python",
   "name": "python",
   "nbconvert_exporter": "python",
   "pygments_lexer": "ipython3",
   "version": "3.9.13"
  }
 },
 "nbformat": 4,
 "nbformat_minor": 5
}
